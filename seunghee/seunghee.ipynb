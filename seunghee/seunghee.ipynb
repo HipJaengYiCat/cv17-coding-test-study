{
 "cells": [
  {
   "attachments": {},
   "cell_type": "markdown",
   "metadata": {},
   "source": [
    "# 백준 - 10250번 ACM 호텔(23.03.20)"
   ]
  },
  {
   "cell_type": "code",
   "execution_count": 60,
   "metadata": {},
   "outputs": [
    {
     "ename": "ValueError",
     "evalue": "invalid literal for int() with base 10: ''",
     "output_type": "error",
     "traceback": [
      "\u001b[0;31m---------------------------------------------------------------------------\u001b[0m",
      "\u001b[0;31mValueError\u001b[0m                                Traceback (most recent call last)",
      "Cell \u001b[0;32mIn[60], line 6\u001b[0m\n\u001b[1;32m      1\u001b[0m \u001b[39m'''\u001b[39;00m\n\u001b[1;32m      2\u001b[0m \u001b[39m30,50,72\u001b[39;00m\n\u001b[1;32m      3\u001b[0m \u001b[39m2 2 3\u001b[39;00m\n\u001b[1;32m      4\u001b[0m \u001b[39m3, 1, 3\u001b[39;00m\n\u001b[1;32m      5\u001b[0m \u001b[39m'''\u001b[39;00m\n\u001b[0;32m----> 6\u001b[0m N \u001b[39m=\u001b[39m \u001b[39mint\u001b[39;49m(\u001b[39minput\u001b[39;49m())\n\u001b[1;32m      8\u001b[0m \u001b[39mfor\u001b[39;00m _ \u001b[39min\u001b[39;00m \u001b[39mrange\u001b[39m(N):\n\u001b[1;32m      9\u001b[0m     H, W, P \u001b[39m=\u001b[39m \u001b[39mmap\u001b[39m(\u001b[39mint\u001b[39m, \u001b[39minput\u001b[39m()\u001b[39m.\u001b[39msplit())\n",
      "\u001b[0;31mValueError\u001b[0m: invalid literal for int() with base 10: ''"
     ]
    }
   ],
   "source": [
    "'''\n",
    "30,50,72\n",
    "2 2 3\n",
    "3, 1, 3\n",
    "'''\n",
    "N = int(input())\n",
    "\n",
    "for _ in range(N):\n",
    "    H, W, P = map(int, input().split())\n",
    "    dp = [0 for _ in range(H+1)]\n",
    "    for x in range(1, P+1):\n",
    "        if H > x : # 꼭대기층아님\n",
    "          dp[x%H] += 1\n",
    "        elif H == x: # 꼭대기층임\n",
    "          dp[H] += 1\n",
    "        else: #  H < x:\n",
    "          dp[H%x] += 1\n",
    "          \n",
    "    floor = P%H if H > P else H\n",
    "    room  = dp[floor]\n",
    "\n",
    "    print(floor, room)"
   ]
  },
  {
   "attachments": {},
   "cell_type": "markdown",
   "metadata": {},
   "source": [
    "## 프로그래머스 - 미로탈출(23.03.24)"
   ]
  },
  {
   "cell_type": "code",
   "execution_count": null,
   "metadata": {},
   "outputs": [
    {
     "data": {
      "text/plain": [
       "5"
      ]
     },
     "execution_count": 93,
     "metadata": {},
     "output_type": "execute_result"
    }
   ],
   "source": [
    "# try2 - 테스트는 맞으나 정확성 떨어짐\n",
    "from collections import deque\n",
    "def solution(maps):\n",
    "#     global maze, start, lever, end\n",
    "    map = [list(m) for m in maps]\n",
    "    n = len(map)\n",
    "    m = len(map[0])\n",
    "\n",
    "    for i, lst in enumerate(map):\n",
    "        if 'S' in lst:\n",
    "            start = (i, lst.index('S'))\n",
    "        if 'L' in lst:\n",
    "            lever = (i, lst.index('L'))\n",
    "        if 'E' in lst:\n",
    "            end = (i, lst.index('E'))\n",
    "\n",
    "    dx = [-1, 1, 0, 0]\n",
    "    dy = [0, 0, -1, 1]\n",
    "\n",
    "    def bfs(start, end):\n",
    "        maze = [[0 for _ in range(m)] for _ in range(n)]\n",
    "        for i in range(n):\n",
    "            for j in range(m):\n",
    "                if map[i][j] != 'X':\n",
    "                    maze[i][j] = 1\n",
    "        s_x, s_y = start\n",
    "        e_x, e_y = end\n",
    "        queue = deque()\n",
    "        queue.append((s_x, s_y))\n",
    "\n",
    "        while queue:\n",
    "            x, y = queue.popleft()\n",
    "\n",
    "            for i in range(4):\n",
    "                nx, ny = x + dx[i], y + dy[i]\n",
    "                # print(nx, ny)\n",
    "\n",
    "                if nx < 0 or ny < 0 or nx >= n or ny >= m:\n",
    "                    # print('범위밖')\n",
    "                    continue\n",
    "\n",
    "                if maze[nx][ny] == 0: # X일경우\n",
    "                    # print('길없음')\n",
    "                    continue\n",
    "\n",
    "                if maze[nx][ny] == 1: #start, lever, end일경우\n",
    "                    maze[nx][ny] = maze[x][y] + 1\n",
    "                    # print('업데이트')\n",
    "                    queue.append((nx, ny))\n",
    "        # print(maze)\n",
    "        return maze[e_x][e_y]-1 if maze[e_x][e_y] != 1 else -1\n",
    "    \n",
    "    result1 = bfs(start, lever)\n",
    "    result2 = bfs(lever, end)\n",
    "    return -1 if result1 == -1 or result2 == -1 else result1+result2\n",
    "# return maze[end[0][0]][end[0][1]]\n",
    "\n",
    "# maps = [\"SOOOL\",\"XXXXO\",\"OOOOO\",\"OXXXX\",\"OOOOE\"]\n",
    "maps = [\"LOOXS\",\"OOOOX\",\"OOOOO\",\"OOOOO\",\"EOOOO\"]\n",
    "maps = [\"SOOOL\", \"OOOOE\"]\n",
    "solution(maps)"
   ]
  },
  {
   "cell_type": "code",
   "execution_count": null,
   "metadata": {},
   "outputs": [],
   "source": [
    "# 1544 사이클 단어 - 다시불기\n",
    "\n",
    "# N = int(input())\n",
    "# data = [map(str, input().split()) for _ in range(N)]\n",
    "data = ['picture', 'turepic','icturep','word','ordw']\n",
    "# data\n",
    "\n",
    "from collections import deque\n",
    "N = 5#int(input())\n",
    "# data = [map(str, input().strip()) for _ in range(N)] #-> deque로\n",
    "\n",
    "# 단어 하나를 꺼내서 기존 단어와 같으면 정리해서 다시 Insert\n",
    "for i in range(N):\n",
    "    word = data[i]\n",
    "    que =deque(word) # picture -> ['p', 'i', 'c', 't', 'u', 'r', 'e']\n",
    "    print('시작', data[i], que)\n",
    "\n",
    "    while True: #-> for로 바꾸기 조건 변경  -> len\n",
    "        que.append(que.popleft()) # 앞에서 빼서 맨 뒤로 넣기 rotate\n",
    "        rotate_word = ''.join(que) # 하나씩 밀린 단어\n",
    "        print(rotate_word)\n",
    "        if rotate_word == data: #\n",
    "            print('break')\n",
    "            break\n",
    "\n",
    "        if rotate_word in data: # data에 word(하나씩 밀린 단어) 있음 -> 밀린단어를 원래 단어로 변경\n",
    "            idx = data.index(rotate_word)\n",
    "            data[idx] = word\n",
    "\n",
    "        # 중복 단어 없을때 경우\n",
    "\n",
    "print(len(set(data)))\n",
    "# return len(set(data))"
   ]
  },
  {
   "cell_type": "code",
   "execution_count": 81,
   "metadata": {},
   "outputs": [
    {
     "name": "stdout",
     "output_type": "stream",
     "text": [
      "2\n"
     ]
    }
   ],
   "source": [
    "## 백준 1417 국회의원선거\n",
    "N = 3 # 후보 \n",
    "data = [5,7,7] # 유권자\n",
    "\n",
    "# N = 4 # 후보\n",
    "# data = [10,10,10,10] # 유권자\n",
    "\n",
    "# N = 1 # 후보\n",
    "# data = [1] # 유권자\n",
    "\n",
    "# N = 5 # 후보\n",
    "# data = [5, 10, 7, 3, 8] # 유권자\n",
    "\n",
    "\n",
    "N = int(input())\n",
    "data = [int(input()) for _ in range(N)]\n",
    "## 코드 시작\n",
    "result = 0\n",
    "\n",
    "if len(data)  > 1 :\n",
    "    one = data[0] # 매수자놈 득표수\n",
    "    others = data[1:] # 나머지 득표수\n",
    "\n",
    "    while max(others) >= one: # 1번보다 나머지 중 하나가 더 크거나 같으면 -> 가장득표수많은 놈부터 한명씩 매수\n",
    "        one +=1\n",
    "        max_idx = others.index(max(others))\n",
    "        others[max_idx] -= 1\n",
    "        result += 1 # 매수한놈들 count\n",
    "\n",
    "else:\n",
    "    pass\n",
    "print(result)\n",
    "# 44초\n"
   ]
  },
  {
   "cell_type": "code",
   "execution_count": 116,
   "metadata": {},
   "outputs": [
    {
     "name": "stdout",
     "output_type": "stream",
     "text": [
      "1 2 3 4\n"
     ]
    }
   ],
   "source": [
    "# 15650 N과 M (2)\n",
    "arr = 4\n",
    "n = 4\n",
    "arr_lst = [i for i in range(1, arr+1)]\n",
    "\n",
    "def combination(arr_lst, n):\n",
    "    con = []\n",
    "\n",
    "    if n > len(arr_lst):\n",
    "        return con\n",
    "    \n",
    "    if n == 1:\n",
    "        for i in arr_lst:\n",
    "            # print(arr_lst)\n",
    "            con.append([i]) #[1], [2], ...\n",
    "\n",
    "    elif n > 1:\n",
    "        for i in range(len(arr_lst) - n + 1):\n",
    "            res = arr_lst[i+1:]\n",
    "            for j in combination(res, n-1):\n",
    "                con.append([arr_lst[i]]+ j)\n",
    "    return con\n",
    "\n",
    "result = combination(arr_lst, n)\n",
    "\n",
    "for i in result:\n",
    "    print(' '.join(map(str, i)))\n"
   ]
  },
  {
   "cell_type": "code",
   "execution_count": 141,
   "metadata": {},
   "outputs": [
    {
     "name": "stdout",
     "output_type": "stream",
     "text": [
      "3\n"
     ]
    }
   ],
   "source": [
    "## 1235 학생번호\n",
    "# n = 3\n",
    "# data = ['1212345', '1212356', '0033445']\n",
    "\n",
    "# n = int(input())\n",
    "# data = [str(input()) for _ in range(n)]\n",
    "\n",
    "result = 1\n",
    "while True:\n",
    "    num = []\n",
    "    for s in data:\n",
    "        num.append(s[-1*result:]) # num에 길이가 result인 번호 넣음\n",
    "\n",
    "    if len(set(num)) == n: # 고유하게 나오면 끝\n",
    "        break\n",
    "\n",
    "    elif len(set(num)) != n: # 중복이 있으면 result + 1\n",
    "        result+=1\n",
    "\n",
    "print(result)\n"
   ]
  },
  {
   "cell_type": "code",
   "execution_count": 48,
   "metadata": {},
   "outputs": [
    {
     "ename": "ValueError",
     "evalue": "invalid literal for int() with base 10: ''",
     "output_type": "error",
     "traceback": [
      "\u001b[0;31m---------------------------------------------------------------------------\u001b[0m",
      "\u001b[0;31mValueError\u001b[0m                                Traceback (most recent call last)",
      "Cell \u001b[0;32mIn[48], line 35\u001b[0m\n\u001b[1;32m      1\u001b[0m \u001b[39m# N = int(input())\u001b[39;00m\n\u001b[1;32m      2\u001b[0m \u001b[39m# # data = [int(input()) for _ in range(N)]\u001b[39;00m\n\u001b[1;32m      3\u001b[0m \u001b[39m# # N = int(input()) # 사람수\u001b[39;00m\n\u001b[0;32m   (...)\u001b[0m\n\u001b[1;32m     31\u001b[0m \u001b[39m# L = [1, 1, 1, 1, 1, 1, 1, 1, 1, 1, 1, 1]\u001b[39;00m\n\u001b[1;32m     32\u001b[0m \u001b[39m# J = [100, 100, 100, 100, 100, 100, 100, 100, 100, 100, 100, 100] \u001b[39;00m\n\u001b[0;32m---> 35\u001b[0m N \u001b[39m=\u001b[39m \u001b[39mint\u001b[39;49m(\u001b[39minput\u001b[39;49m())\n\u001b[1;32m     36\u001b[0m L \u001b[39m=\u001b[39m \u001b[39mlist\u001b[39m(\u001b[39mmap\u001b[39m(\u001b[39mint\u001b[39m, \u001b[39minput\u001b[39m()\u001b[39m.\u001b[39msplit()))\n\u001b[1;32m     37\u001b[0m J \u001b[39m=\u001b[39m \u001b[39mlist\u001b[39m(\u001b[39mmap\u001b[39m(\u001b[39mint\u001b[39m, \u001b[39minput\u001b[39m()\u001b[39m.\u001b[39msplit()))\n",
      "\u001b[0;31mValueError\u001b[0m: invalid literal for int() with base 10: ''"
     ]
    }
   ],
   "source": [
    "# N = int(input())\n",
    "# # data = [int(input()) for _ in range(N)]\n",
    "# # N = int(input()) # 사람수\n",
    "# # L_num = str(input())\n",
    "# # J_num = str(input())\n",
    "# N = int(input())\n",
    "# L = list(map(int, input.split()))\n",
    "# J = list(map(int, input.split()))\n",
    "\n",
    "# # # case1\n",
    "# L = [1, 21, 79]\n",
    "# J = [20,30,25] \n",
    "\n",
    "# case2\n",
    "# L = [100]\n",
    "# J = [20] \n",
    "\n",
    "# #case3\n",
    "# L = [100, 15, 1, 2, 3, 4, 6, 5]\n",
    "# J = [49, 40, 1, 2, 3, 4, 5, 4] \n",
    "\n",
    "# # #case4\n",
    "# L = [100, 50, 20, 13]\n",
    "# J = [20, 30, 40, 50] \n",
    "\n",
    "# # #case5 # 효용으로 케이스 변경\n",
    "# L = [100, 26, 13, 17, 24, 33, 100, 99]\n",
    "# J = [34, 56, 21, 1, 24, 34, 100, 99] \n",
    "\n",
    "#case6 # 효용으로 케이스 변경\n",
    "# L = [1, 1, 1, 1, 1, 1, 1, 1, 1, 1, 1, 1]\n",
    "# J = [100, 100, 100, 100, 100, 100, 100, 100, 100, 100, 100, 100] \n",
    "\n",
    "\n",
    "N = int(input())\n",
    "L = list(map(int, input().split()))\n",
    "J = list(map(int, input().split()))\n",
    "\n",
    "life = 100\n",
    "score = 0\n",
    "\n",
    "## 효용버전\n",
    "data = [(l,j, j-l) for l, j in zip(L, J)] # 손실, 기쁨, 효용\n",
    "data.sort(key=lambda x : -x[2]) # 효용 큰 순서대로\n",
    "\n",
    "for thank in data:\n",
    "    a, b, c= thank\n",
    "    if life - a > 0:\n",
    "        life -= a\n",
    "        score = max(score, score+b)\n",
    "\n",
    "print(score)  # 반례란.....\n"
   ]
  },
  {
   "cell_type": "code",
   "execution_count": 27,
   "metadata": {},
   "outputs": [
    {
     "data": {
      "text/plain": [
       "4"
      ]
     },
     "execution_count": 27,
     "metadata": {},
     "output_type": "execute_result"
    }
   ],
   "source": [
    "life"
   ]
  },
  {
   "cell_type": "code",
   "execution_count": 24,
   "metadata": {},
   "outputs": [
    {
     "data": {
      "text/plain": [
       "[20]"
      ]
     },
     "execution_count": 24,
     "metadata": {},
     "output_type": "execute_result"
    }
   ],
   "source": [
    "J"
   ]
  },
  {
   "cell_type": "code",
   "execution_count": null,
   "metadata": {},
   "outputs": [],
   "source": []
  }
 ],
 "metadata": {
  "kernelspec": {
   "display_name": "pytorchkernel",
   "language": "python",
   "name": "pytorch"
  },
  "language_info": {
   "codemirror_mode": {
    "name": "ipython",
    "version": 3
   },
   "file_extension": ".py",
   "mimetype": "text/x-python",
   "name": "python",
   "nbconvert_exporter": "python",
   "pygments_lexer": "ipython3",
   "version": "3.8.16"
  },
  "orig_nbformat": 4
 },
 "nbformat": 4,
 "nbformat_minor": 2
}
